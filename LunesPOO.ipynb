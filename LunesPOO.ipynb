{
  "nbformat": 4,
  "nbformat_minor": 0,
  "metadata": {
    "colab": {
      "provenance": [],
      "authorship_tag": "ABX9TyM4WaRa2H1NGOCnXYrSVOrW",
      "include_colab_link": true
    },
    "kernelspec": {
      "name": "python3",
      "display_name": "Python 3"
    },
    "language_info": {
      "name": "python"
    }
  },
  "cells": [
    {
      "cell_type": "markdown",
      "metadata": {
        "id": "view-in-github",
        "colab_type": "text"
      },
      "source": [
        "<a href=\"https://colab.research.google.com/github/AngelAlbertoCT/ProgramacionOrientada-a-Objetos-con-Python/blob/main/LunesPOO.ipynb\" target=\"_parent\"><img src=\"https://colab.research.google.com/assets/colab-badge.svg\" alt=\"Open In Colab\"/></a>"
      ]
    },
    {
      "cell_type": "code",
      "execution_count": null,
      "metadata": {
        "colab": {
          "base_uri": "https://localhost:8080/"
        },
        "id": "xo6IL07oi2ha",
        "outputId": "4c675f15-5ddd-451f-d921-3cf23b904cbb"
      },
      "outputs": [
        {
          "output_type": "stream",
          "name": "stdout",
          "text": [
            "Hola Mundo\n"
          ]
        }
      ],
      "source": [
        "# Esto es un comentario\n",
        "print(\"Hola Mundo\")  # Esto imprime \"Hola Mundo\""
      ]
    },
    {
      "cell_type": "code",
      "source": [
        "!ls -a"
      ],
      "metadata": {
        "colab": {
          "base_uri": "https://localhost:8080/"
        },
        "id": "DSDoO37FlJRK",
        "outputId": "f20f8b46-0618-48e1-a9db-c5ea9e2f5059"
      },
      "execution_count": null,
      "outputs": [
        {
          "output_type": "stream",
          "name": "stdout",
          "text": [
            ".  ..  .config\tsample_data\n"
          ]
        }
      ]
    },
    {
      "cell_type": "code",
      "source": [
        "print(\"Hola\", \"Mundo\")\n",
        "\n",
        "print(\"Hola\" + \"Mundo\")\n",
        "\n",
        "print(\"Hola\", \"Mundo\", sep=\"-\")  # Imprime: Hola-Mundo\n",
        "\n",
        "print(\"Hola\", end=\"*\")#end=\"\" -> indica con que simbolo se quiere separar similar a la linea anterior\n",
        "print(\"Mundo\")  # Imprime: HolaMundo"
      ],
      "metadata": {
        "colab": {
          "base_uri": "https://localhost:8080/"
        },
        "id": "3DfHZErnmBM8",
        "outputId": "2de720c4-a5b2-4d43-b3a1-4cabad828e15"
      },
      "execution_count": null,
      "outputs": [
        {
          "output_type": "stream",
          "name": "stdout",
          "text": [
            "Hola Mundo\n",
            "HolaMundo\n",
            "Hola-Mundo\n",
            "Hola*Mundo\n"
          ]
        }
      ]
    },
    {
      "cell_type": "code",
      "source": [
        "nombre = \"José\"\n",
        "carrera = \"ICO, la mejor\"\n",
        "print(\"Mi nombre es {} y estudio {} en la FES Aragón\".format(nombre, carrera))\n",
        "#index por default"
      ],
      "metadata": {
        "colab": {
          "base_uri": "https://localhost:8080/"
        },
        "id": "c66Q3ruom8QO",
        "outputId": "ec20615a-ce4a-4d0c-ddce-308e7717d0cf"
      },
      "execution_count": null,
      "outputs": [
        {
          "output_type": "stream",
          "name": "stdout",
          "text": [
            "Mi nombre es José y estudio ICO, la mejor en la FES Aragón\n"
          ]
        }
      ]
    },
    {
      "cell_type": "code",
      "source": [
        "nombre = \"José\"\n",
        "carrera = \"ICO, la mejor\"\n",
        "print(\"Mi nombre es {1} y estudio {0} en la FES Aragón\".format(nombre, carrera))\n",
        "#index modificado"
      ],
      "metadata": {
        "colab": {
          "base_uri": "https://localhost:8080/"
        },
        "id": "B8fOyQYqnZbM",
        "outputId": "8c95d894-eb78-4ad1-f93d-fd47673e22d0"
      },
      "execution_count": null,
      "outputs": [
        {
          "output_type": "stream",
          "name": "stdout",
          "text": [
            "Mi nombre es ICO, la mejor y estudio José en la FES Aragón\n"
          ]
        }
      ]
    },
    {
      "cell_type": "code",
      "source": [
        "\n",
        "nombre = \"José\"\n",
        "carrera = \"ICO, la mejor\"\n",
        "print(f\"Mi nombre es { nombre} y estudio { carrera } en la FES Aragón\")\n",
        "print(f\"Mi nombre es { nombre*2} y estudio { carrera } en la FES Aragón\")"
      ],
      "metadata": {
        "colab": {
          "base_uri": "https://localhost:8080/"
        },
        "id": "rMuB5WooofTQ",
        "outputId": "60515fbe-0220-45bc-a4f5-1e3ba5961ae2"
      },
      "execution_count": null,
      "outputs": [
        {
          "output_type": "stream",
          "name": "stdout",
          "text": [
            "Mi nombre es José y estudio ICO, la mejor en la FES Aragón\n",
            "Mi nombre es JoséJosé y estudio ICO, la mejor en la FES Aragón\n"
          ]
        }
      ]
    },
    {
      "cell_type": "code",
      "source": [
        "# Operadores aritméticos\n",
        "suma = 5 + 3    # 8\n",
        "resta = 5 - 3   # 2\n",
        "producto = 5 * 3  # 15\n",
        "division = 5 / 3  # 1.66667\n",
        "division2 = 5 // 3 # 1\n",
        "modulo = 5 % 3   # 2\n",
        "potencia = 5 ** 3  # 125"
      ],
      "metadata": {
        "id": "BR-bqpR8o0k4"
      },
      "execution_count": null,
      "outputs": []
    },
    {
      "cell_type": "code",
      "source": [
        "suma\n"
      ],
      "metadata": {
        "colab": {
          "base_uri": "https://localhost:8080/"
        },
        "id": "wbVzNZJPo9GY",
        "outputId": "4eb69afe-18fe-491e-e25e-3e4293220a3e"
      },
      "execution_count": null,
      "outputs": [
        {
          "output_type": "execute_result",
          "data": {
            "text/plain": [
              "8"
            ]
          },
          "metadata": {},
          "execution_count": 14
        }
      ]
    },
    {
      "cell_type": "code",
      "source": [
        "# Operadores de comparación\n",
        "igual = 5 == 3  # False\n",
        "diferente = 5 != 3  # True\n",
        "mayor_que = 5 > 3  # True\n",
        "menor_que = 5 < 3  # False\n",
        "mayor_o_igual_que = 5 >= 3  # True\n",
        "menor_o_igual_que = 5 <= 3  # False"
      ],
      "metadata": {
        "id": "DbMk5I7-pMCl"
      },
      "execution_count": null,
      "outputs": []
    },
    {
      "cell_type": "code",
      "source": [
        "igual"
      ],
      "metadata": {
        "colab": {
          "base_uri": "https://localhost:8080/"
        },
        "id": "-H-Y4d-wpM0A",
        "outputId": "1c373345-8cc2-48a8-a7f3-6ab9ba17df5a"
      },
      "execution_count": null,
      "outputs": [
        {
          "output_type": "execute_result",
          "data": {
            "text/plain": [
              "False"
            ]
          },
          "metadata": {},
          "execution_count": 17
        }
      ]
    },
    {
      "cell_type": "code",
      "source": [
        "# Operadores lógicos\n",
        "y = True and False  # False\n",
        "o = True or False  # True\n",
        "no = not True  # False"
      ],
      "metadata": {
        "id": "3cBXIY0jpWDL"
      },
      "execution_count": null,
      "outputs": []
    },
    {
      "cell_type": "code",
      "source": [
        "True and True and False\n",
        "#False or (True and False)"
      ],
      "metadata": {
        "colab": {
          "base_uri": "https://localhost:8080/"
        },
        "id": "0gZ4VPm-pXT4",
        "outputId": "614f7f6f-0510-4baa-b4b2-91600afc4788"
      },
      "execution_count": null,
      "outputs": [
        {
          "output_type": "execute_result",
          "data": {
            "text/plain": [
              "False"
            ]
          },
          "metadata": {},
          "execution_count": 22
        }
      ]
    },
    {
      "cell_type": "code",
      "source": [
        "saludo = \"Hola Mundo\"\n",
        "cita = 'Los alumnos\\n de ICO \\'dicen\\':\\t\\t \"Hola Mundo\"'\n",
        "parrafo = \"\"\"Esto es un párrafo\n",
        "que abarca varias\n",
        "líneas\"\"\""
      ],
      "metadata": {
        "id": "KMwFxb9kqA2t"
      },
      "execution_count": null,
      "outputs": []
    },
    {
      "cell_type": "code",
      "source": [
        "print(parrafo)"
      ],
      "metadata": {
        "colab": {
          "base_uri": "https://localhost:8080/"
        },
        "id": "5m1Fktw3qGgc",
        "outputId": "07bcff5a-e4dd-4f32-b5e0-3e283443d8b3"
      },
      "execution_count": null,
      "outputs": [
        {
          "output_type": "stream",
          "name": "stdout",
          "text": [
            "Esto es un párrafo\n",
            "que abarca varias\n",
            "líneas\n"
          ]
        }
      ]
    },
    {
      "cell_type": "code",
      "source": [
        "def fn_uno():\n",
        "    print(\"Hola función\")\n",
        "\n",
        "a, b, c, d = 10, \"Hola\", [2.3, 3.4], fn_uno\n",
        "print(a)\n",
        "print(b)\n",
        "print(c[1])\n",
        "print(c)\n",
        "print(d)\n",
        "d.__call__()"
      ],
      "metadata": {
        "colab": {
          "base_uri": "https://localhost:8080/"
        },
        "id": "IOhaiYAHqrve",
        "outputId": "664e0839-7b86-4110-8c44-f52eabbaa3f8"
      },
      "execution_count": null,
      "outputs": [
        {
          "output_type": "stream",
          "name": "stdout",
          "text": [
            "10\n",
            "Hola\n",
            "3.4\n",
            "[2.3, 3.4]\n",
            "<function fn_uno at 0x7f5b9bba7e20>\n",
            "Hola función\n"
          ]
        }
      ]
    },
    {
      "cell_type": "code",
      "source": [
        "# entrada por teclado\n",
        "nombre = input(\"Por favor, introduce tu nombre: \")\n",
        "print(f\"Hola {nombre}!\")"
      ],
      "metadata": {
        "colab": {
          "base_uri": "https://localhost:8080/"
        },
        "id": "1LGOYHzHrhPd",
        "outputId": "c1d28928-8fd5-4c49-86db-fce3e245feb2"
      },
      "execution_count": null,
      "outputs": [
        {
          "output_type": "stream",
          "name": "stdout",
          "text": [
            "Por favor, introduce tu nombre: Angel\n",
            "Hola Angel!\n"
          ]
        }
      ]
    },
    {
      "cell_type": "code",
      "source": [
        "numero=int(\"20\")#Cast\n",
        "print(numero)\n",
        "edad = int(input(\"Introduce tu edad:\"))\n",
        "print(f\"{nombre} tiene {edad} años\")"
      ],
      "metadata": {
        "colab": {
          "base_uri": "https://localhost:8080/"
        },
        "id": "sl9jERKwrz4i",
        "outputId": "c3ff990e-9201-4f2a-a3a7-66da3d66966c"
      },
      "execution_count": null,
      "outputs": [
        {
          "output_type": "stream",
          "name": "stdout",
          "text": [
            "20\n",
            "Introduce tu edad:26\n",
            "Angel tiene 26 años\n"
          ]
        }
      ]
    },
    {
      "cell_type": "code",
      "source": [
        "mensaje = \"Hola Mundo\"  # String\n",
        "edad = 20               # Integer\n",
        "pi = 3.14159            # Float\n",
        "es_mayor = True         # Boolean\n",
        "imaginario = 3 + 4j     # Imaginario"
      ],
      "metadata": {
        "id": "A9slHTE5sQFu"
      },
      "execution_count": null,
      "outputs": []
    },
    {
      "cell_type": "code",
      "source": [
        "pi*2"
      ],
      "metadata": {
        "colab": {
          "base_uri": "https://localhost:8080/"
        },
        "id": "2unq2jN7sR38",
        "outputId": "be5bb933-72b0-41dc-cb99-60d9f55ca122"
      },
      "execution_count": null,
      "outputs": [
        {
          "output_type": "execute_result",
          "data": {
            "text/plain": [
              "6.28318"
            ]
          },
          "metadata": {},
          "execution_count": 38
        }
      ]
    },
    {
      "cell_type": "code",
      "source": [
        "#         0       1           2\n",
        "#         -3      -2          -1\n",
        "frutas=['limon','aguacate','fresa']\n",
        "print(frutas[2])\n",
        "print(frutas[-1])"
      ],
      "metadata": {
        "colab": {
          "base_uri": "https://localhost:8080/"
        },
        "id": "CcZK_sxXs0Be",
        "outputId": "99d8c098-a434-4ddd-a436-23d39ea4aa66"
      },
      "execution_count": null,
      "outputs": [
        {
          "output_type": "stream",
          "name": "stdout",
          "text": [
            "fresa\n",
            "fresa\n"
          ]
        }
      ]
    },
    {
      "cell_type": "code",
      "source": [
        "cosas=['limon',10,3.1426,True,[1,2,3,4], \"Hola\"]\n",
        "print(cosas)"
      ],
      "metadata": {
        "colab": {
          "base_uri": "https://localhost:8080/"
        },
        "id": "4e25xVLjtN-q",
        "outputId": "16349273-c064-4a33-c309-1ce7b470d5f6"
      },
      "execution_count": null,
      "outputs": [
        {
          "output_type": "stream",
          "name": "stdout",
          "text": [
            "['limon', 10, 3.1426, True, [1, 2, 3, 4], 'Hola']\n"
          ]
        }
      ]
    },
    {
      "cell_type": "markdown",
      "source": [
        "#Slicing en python\n",
        "\n",
        "[inicio:stop:step]\n",
        "\n",
        "Es la posibilidad de obtener rebanadas a partir de un tipo de datos, lista o tupla, en general de un iterable. Un tipo de dato String es un iterable.\n",
        "\n",
        "Por defecto\n",
        "inicio=0\n",
        "stop=tamaño de la variable\n",
        "step=1"
      ],
      "metadata": {
        "id": "0VguSUUNtg0H"
      }
    },
    {
      "cell_type": "code",
      "source": [
        "ejemplo=[1,2,3,4,5,6,'a','b','c','d','e']\n",
        "print(ejemplo)"
      ],
      "metadata": {
        "colab": {
          "base_uri": "https://localhost:8080/"
        },
        "id": "_K7mxqf2uTQG",
        "outputId": "791544fc-12e0-4492-a0a4-7db5351a8cab"
      },
      "execution_count": null,
      "outputs": [
        {
          "output_type": "stream",
          "name": "stdout",
          "text": [
            "[1, 2, 3, 4, 5, 6, 'a', 'b', 'c', 'd', 'e']\n"
          ]
        }
      ]
    },
    {
      "cell_type": "code",
      "source": [
        "rebanada=ejemplo[2:6:1]#stop=n+1\n",
        "rebanada2=ejemplo[6:9:1]\n",
        "print(rebanada)\n",
        "print(rebanada2)"
      ],
      "metadata": {
        "colab": {
          "base_uri": "https://localhost:8080/"
        },
        "id": "gNKT9c9Uugvf",
        "outputId": "015fcd38-9d99-4395-be9a-da4a4b53eed0"
      },
      "execution_count": null,
      "outputs": [
        {
          "output_type": "stream",
          "name": "stdout",
          "text": [
            "[3, 4, 5, 6]\n",
            "['a', 'b', 'c']\n"
          ]
        }
      ]
    },
    {
      "cell_type": "code",
      "source": [
        "frutas_dos=(\"Aguacate\",\"limon\",\"naranja\")\n",
        "\n",
        "print(frutas)\n",
        "print(frutas_dos)\n",
        "\n",
        "frutas[1]='Piña'\n",
        "#frutas_dos[1]='Piña' no mutable\n",
        "\n",
        "print(frutas[1])\n",
        "print(frutas_dos[1])\n",
        "print(frutas_dos[-1])#Tupla tambien puede usar indexado negativo"
      ],
      "metadata": {
        "colab": {
          "base_uri": "https://localhost:8080/"
        },
        "id": "ui7QdxBQvpdy",
        "outputId": "e8c92cb9-732c-41cc-e8a1-5dea7e7e6f30"
      },
      "execution_count": null,
      "outputs": [
        {
          "output_type": "stream",
          "name": "stdout",
          "text": [
            "['limon', 'Piña', 'fresa']\n",
            "('Aguacate', 'limon', 'naranja')\n",
            "Piña\n",
            "limon\n",
            "naranja\n"
          ]
        }
      ]
    },
    {
      "cell_type": "markdown",
      "source": [
        "#Diccionarios (Teoria)\n",
        "\n",
        "1. Es un conjunto de pares llave valor\n",
        "1. Agrupados por ':'\n",
        "1. La llave siempre es de tipo String\n",
        "1. El valor puede ser de cualquier tipo\n",
        "1. El selector de la forma ['llave']\n",
        "1. Mutable\n",
        "1. Se declara entre caracteres '{' y '}'\n",
        "1. Los pares están separados por comas"
      ],
      "metadata": {
        "id": "mkxL-0W7wtNx"
      }
    },
    {
      "cell_type": "code",
      "source": [
        "alumno={'numero_cuenta':12345678, 'carrera':'ICO',\n",
        "          'direccion':{'calle':'rancho seco', 'numero':23}\n",
        "        }\n",
        "print(alumno)\n",
        "print(alumno['carrera'])\n",
        "print(alumno['direccion'])\n",
        "print(alumno['direccion']['numero'])\n",
        "print(alumno['direccion']['calle'][3:6:1])\n"
      ],
      "metadata": {
        "colab": {
          "base_uri": "https://localhost:8080/"
        },
        "id": "_aQSqzCsxcN2",
        "outputId": "3369d04c-3b13-40dc-bf4f-47d8bcef9309"
      },
      "execution_count": null,
      "outputs": [
        {
          "output_type": "stream",
          "name": "stdout",
          "text": [
            "{'numero_cuenta': 12345678, 'carrera': 'ICO', 'direccion': {'calle': 'rancho seco', 'numero': 23}}\n",
            "ICO\n",
            "{'calle': 'rancho seco', 'numero': 23}\n",
            "23\n",
            "cho\n"
          ]
        }
      ]
    }
  ]
}