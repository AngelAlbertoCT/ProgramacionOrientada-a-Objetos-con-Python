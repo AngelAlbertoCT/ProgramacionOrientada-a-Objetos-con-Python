{
  "nbformat": 4,
  "nbformat_minor": 0,
  "metadata": {
    "colab": {
      "provenance": [],
      "authorship_tag": "ABX9TyN/7ztKBt07Kmma2OAoPetu",
      "include_colab_link": true
    },
    "kernelspec": {
      "name": "python3",
      "display_name": "Python 3"
    },
    "language_info": {
      "name": "python"
    }
  },
  "cells": [
    {
      "cell_type": "markdown",
      "metadata": {
        "id": "view-in-github",
        "colab_type": "text"
      },
      "source": [
        "<a href=\"https://colab.research.google.com/github/AngelAlbertoCT/ProgramacionOrientada-a-Objetos-con-Python/blob/main/MartesPOO.ipynb\" target=\"_parent\"><img src=\"https://colab.research.google.com/assets/colab-badge.svg\" alt=\"Open In Colab\"/></a>"
      ]
    },
    {
      "cell_type": "code",
      "execution_count": 4,
      "metadata": {
        "id": "PA5sC3JwMj6k"
      },
      "outputs": [],
      "source": [
        "alumno={'numero_cuenta':12345678, 'carrera':'ICO',\n",
        "        'direccion':{'calle':'rancho seco', 'numero':23},\n",
        "        'telefonos':['1122334455','9988776655']\n",
        "        }"
      ]
    },
    {
      "cell_type": "code",
      "source": [
        "print(alumno['direccion']['calle'][3:6:1])\n",
        "print(alumno['telefonos'])\n",
        "print(alumno)\n",
        "alumno['facultad']='FES Aragon'\n",
        "print(alumno)"
      ],
      "metadata": {
        "colab": {
          "base_uri": "https://localhost:8080/"
        },
        "id": "jaa9M4jWNYK_",
        "outputId": "ef05101c-80e2-4166-d735-06790a9d75cf"
      },
      "execution_count": 7,
      "outputs": [
        {
          "output_type": "stream",
          "name": "stdout",
          "text": [
            "cho\n",
            "['1122334455', '9988776655']\n",
            "{'numero_cuenta': 12345678, 'carrera': 'ICO', 'direccion': {'calle': 'rancho seco', 'numero': 23}, 'telefonos': ['1122334455', '9988776655'], 'facultad': 'FES Aragon'}\n",
            "{'numero_cuenta': 12345678, 'carrera': 'ICO', 'direccion': {'calle': 'rancho seco', 'numero': 23}, 'telefonos': ['1122334455', '9988776655'], 'facultad': 'FES Aragon'}\n"
          ]
        }
      ]
    },
    {
      "cell_type": "code",
      "source": [
        "#if\n",
        "edad = 20\n",
        "#edad = 2\n",
        "if edad >= 18:\n",
        "    print(\"Eres mayor de edad.\")\n",
        "    print(\"otra cosa\")\n",
        "    print(\"algo más\")"
      ],
      "metadata": {
        "id": "L2eO4nNSPA3n"
      },
      "execution_count": 10,
      "outputs": []
    },
    {
      "cell_type": "code",
      "source": [
        "#if - else\n",
        "edad = 20\n",
        "if edad >= 18:\n",
        "    print(\"Eres mayor de edad.\")\n",
        "    print(\"otra cosa\")\n",
        "    print(\"algo más\")\n",
        "else:\n",
        "    print(\"Eres menor de edad.\")\n",
        "    print(\"otra cosa\")\n",
        "    print(\"algo más\")"
      ],
      "metadata": {
        "colab": {
          "base_uri": "https://localhost:8080/"
        },
        "id": "AfVoV8dKPFzX",
        "outputId": "665e0dc0-df5b-4794-f0c5-172d514093a8"
      },
      "execution_count": 9,
      "outputs": [
        {
          "output_type": "stream",
          "name": "stdout",
          "text": [
            "Eres mayor de edad.\n"
          ]
        }
      ]
    },
    {
      "cell_type": "code",
      "source": [
        "# if- elif - else\n",
        "edad = 20\n",
        "#edad=15\n",
        "if edad < 13:\n",
        "    print(\"Eres un niño.\")\n",
        "elif edad < 18:\n",
        "    print(\"Eres un adolescente.\")\n",
        "else:\n",
        "    print(\"Eres un adulto.\")"
      ],
      "metadata": {
        "colab": {
          "base_uri": "https://localhost:8080/"
        },
        "id": "OnLpJfQwPnXV",
        "outputId": "3bbaa8ed-05e8-4f17-ef0d-c4b438ec0659"
      },
      "execution_count": 12,
      "outputs": [
        {
          "output_type": "stream",
          "name": "stdout",
          "text": [
            "Eres un adulto.\n"
          ]
        }
      ]
    },
    {
      "cell_type": "code",
      "source": [
        "# if-elif-elif -- Seleccion multiple (switch)\n",
        "edad = 20\n",
        "if edad < 13:\n",
        "    print(\"Eres un niño.\")\n",
        "elif edad < 18:\n",
        "    print(\"Eres un adolescente.\")\n",
        "elif edad < 30:\n",
        "    print(\"Eres un joven adulto.\")"
      ],
      "metadata": {
        "colab": {
          "base_uri": "https://localhost:8080/"
        },
        "id": "JwIUx1phP0W4",
        "outputId": "75b71a8b-e88d-4142-993b-7161d591a708"
      },
      "execution_count": 13,
      "outputs": [
        {
          "output_type": "stream",
          "name": "stdout",
          "text": [
            "Eres un joven adulto.\n"
          ]
        }
      ]
    },
    {
      "cell_type": "code",
      "source": [
        "# For   for(int = 1 ; i<10 ; i++)\n",
        "\n",
        "for i in range(1, 10, 1):\n",
        "    print(i)"
      ],
      "metadata": {
        "colab": {
          "base_uri": "https://localhost:8080/"
        },
        "id": "TBmeDOurQTw5",
        "outputId": "4e25cf29-ddd0-467a-e513-0780970e7116"
      },
      "execution_count": 14,
      "outputs": [
        {
          "output_type": "stream",
          "name": "stdout",
          "text": [
            "1\n",
            "2\n",
            "3\n",
            "4\n",
            "5\n",
            "6\n",
            "7\n",
            "8\n",
            "9\n"
          ]
        }
      ]
    },
    {
      "cell_type": "code",
      "source": [
        "#for-each java\n",
        "frutas = ['piña', 'pera', 'manzana', 'fresa', 'aguacate']\n",
        "for numero in frutas:\n",
        "    print(numero)\n",
        "print(\"---------------\")\n",
        "#break y continue\n",
        "for numero in frutas:\n",
        "    if numero == \"manzana\":\n",
        "        break   # ó continue\n",
        "        #continue\n",
        "    print(numero)  # imprime la fruta\n",
        "print(\"Fin\")"
      ],
      "metadata": {
        "colab": {
          "base_uri": "https://localhost:8080/"
        },
        "id": "IMzr4dc-Q3hP",
        "outputId": "f3d97746-4ab1-46fc-cef4-133995462306"
      },
      "execution_count": 16,
      "outputs": [
        {
          "output_type": "stream",
          "name": "stdout",
          "text": [
            "piña\n",
            "pera\n",
            "manzana\n",
            "fresa\n",
            "aguacate\n",
            "---------------\n",
            "piña\n",
            "pera\n",
            "Fin\n"
          ]
        }
      ]
    },
    {
      "cell_type": "code",
      "source": [
        "tam=0\n",
        "while tam<10:\n",
        "  print(tam)\n",
        "  tam=int(input(\"Dame un numero entero: \"))\n",
        "print(\"Final\")"
      ],
      "metadata": {
        "colab": {
          "base_uri": "https://localhost:8080/"
        },
        "id": "269gZDvxRtfb",
        "outputId": "7f2d257c-dc90-408f-9406-5dcba411d5d2"
      },
      "execution_count": 17,
      "outputs": [
        {
          "output_type": "stream",
          "name": "stdout",
          "text": [
            "0\n",
            "Dame un numero entero: 3\n",
            "3\n",
            "Dame un numero entero: 4\n",
            "4\n",
            "Dame un numero entero: 7\n",
            "7\n",
            "Dame un numero entero: 10\n",
            "Final\n"
          ]
        }
      ]
    }
  ]
}